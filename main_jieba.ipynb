{
 "cells": [
  {
   "cell_type": "code",
   "execution_count": null,
   "id": "7fd6875d-2b02-4699-b569-82ee87511230",
   "metadata": {},
   "outputs": [],
   "source": [
    "#结巴分词的实践"
   ]
  },
  {
   "cell_type": "code",
   "execution_count": null,
   "id": "6b02f28f-a4f6-40ed-b0fb-7b576c453991",
   "metadata": {},
   "outputs": [],
   "source": [
    "##结巴分词的三种模式"
   ]
  },
  {
   "cell_type": "code",
   "execution_count": null,
   "id": "a1fe73fb-99e9-484f-9d7f-5f8b52602911",
   "metadata": {},
   "outputs": [],
   "source": [
    "###全模式"
   ]
  },
  {
   "cell_type": "code",
   "execution_count": 1,
   "id": "7e92cd94-fc6c-4cce-83e2-f0e1cf89e690",
   "metadata": {},
   "outputs": [
    {
     "name": "stderr",
     "output_type": "stream",
     "text": [
      "Building prefix dict from the default dictionary ...\n",
      "Dumping model to file cache C:\\Users\\Temp\\jieba.cache\n",
      "Loading model cost 1.928 seconds.\n",
      "Prefix dict has been built successfully.\n"
     ]
    },
    {
     "name": "stdout",
     "output_type": "stream",
     "text": [
      "Full Mode:我/来到/北京/清华/清华大学/华大/大学\n"
     ]
    }
   ],
   "source": [
    "import jieba\n",
    "seg_list = jieba.cut(\"我来到北京清华大学\",cut_all=True)\n",
    "print(\"Full Mode:\"+\"/\".join(seg_list))"
   ]
  },
  {
   "cell_type": "code",
   "execution_count": null,
   "id": "41f06ee6-ed21-44d5-b286-0476d442304c",
   "metadata": {},
   "outputs": [],
   "source": [
    "###精确模式"
   ]
  },
  {
   "cell_type": "code",
   "execution_count": 2,
   "id": "17bed3c5-bfeb-4597-955e-7964d6fe056c",
   "metadata": {},
   "outputs": [
    {
     "name": "stdout",
     "output_type": "stream",
     "text": [
      "Default Mode:我/来到/北京/清华大学\n"
     ]
    }
   ],
   "source": [
    "seg_list = jieba.cut(\"我来到北京清华大学\",cut_all=False)\n",
    "print(\"Default Mode:\"+\"/\".join(seg_list))"
   ]
  },
  {
   "cell_type": "code",
   "execution_count": null,
   "id": "0bbf5f09-6f34-42ad-99e7-1848535fbd16",
   "metadata": {},
   "outputs": [],
   "source": [
    "###搜索引擎模式"
   ]
  },
  {
   "cell_type": "code",
   "execution_count": 3,
   "id": "01a5565e-ff62-4361-a127-444b2ef59e6b",
   "metadata": {},
   "outputs": [
    {
     "name": "stdout",
     "output_type": "stream",
     "text": [
      "小明,硕士,毕业,于,中国,科学,学院,科学院,中国科学院,计算,计算所,，,后,在,日本,京都,大学,日本京都大学,深造\n"
     ]
    }
   ],
   "source": [
    "seg_list = jieba.cut_for_search(\"小明硕士毕业于中国科学院计算所，后在日本京都大学深造\")\n",
    "print(\",\".join(seg_list))"
   ]
  },
  {
   "cell_type": "code",
   "execution_count": null,
   "id": "261fed84-6df7-435b-8610-1c1d536a1614",
   "metadata": {},
   "outputs": [],
   "source": [
    "##载入词典"
   ]
  },
  {
   "cell_type": "code",
   "execution_count": 4,
   "id": "737ce953-877e-481b-8f6e-4a3f5a1793ab",
   "metadata": {},
   "outputs": [
    {
     "name": "stdout",
     "output_type": "stream",
     "text": [
      "Default Mode:王子龙/即将/是/自然语言/处理/方面/的/高手\n"
     ]
    }
   ],
   "source": [
    "jieba.load_userdict(\"userdict.txt\")\n",
    "seg_list = jieba.cut(\"王子龙即将是自然语言处理方面的高手\",cut_all=False,HMM=False)\n",
    "print(\"Default Mode:\"+\"/\".join(seg_list))"
   ]
  },
  {
   "cell_type": "code",
   "execution_count": null,
   "id": "e69426b6-327a-41bb-9604-a7d210e6d86a",
   "metadata": {},
   "outputs": [],
   "source": [
    "#关键词提取"
   ]
  },
  {
   "cell_type": "code",
   "execution_count": 5,
   "id": "fdc1d881-30dc-48c9-b0cc-057eae34febd",
   "metadata": {},
   "outputs": [
    {
     "name": "stdout",
     "output_type": "stream",
     "text": [
      "Top-5关键词：\n",
      "重点\n",
      "大学\n",
      "国家\n",
      "河北省\n",
      "共建\n"
     ]
    }
   ],
   "source": [
    "import jieba.analyse\n",
    "sentence = \"燕山大学是河北省人民政府、教育部、工业和信息化部、国家国防科技工业局四方共建的全国重点大学，河北省重点支持的国家一流大学和世界一流学科建设高校，北京高科大学联盟成员。\"\n",
    "keywords = jieba.analyse.textrank(sentence, topK=5, withWeight=False, allowPOS=('n', 'ns', 'vn', 'v'))\n",
    "print(\"Top-5关键词：\")\n",
    "for keyword in keywords:\n",
    "    print(keyword)"
   ]
  },
  {
   "cell_type": "code",
   "execution_count": null,
   "id": "1291a756-d6f8-451a-921b-897f2ee6765f",
   "metadata": {},
   "outputs": [],
   "source": []
  }
 ],
 "metadata": {
  "kernelspec": {
   "display_name": "Python 3 (ipykernel)",
   "language": "python",
   "name": "python3"
  },
  "language_info": {
   "codemirror_mode": {
    "name": "ipython",
    "version": 3
   },
   "file_extension": ".py",
   "mimetype": "text/x-python",
   "name": "python",
   "nbconvert_exporter": "python",
   "pygments_lexer": "ipython3",
   "version": "3.9.19"
  }
 },
 "nbformat": 4,
 "nbformat_minor": 5
}
